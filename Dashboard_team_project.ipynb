{
 "cells": [
  {
   "cell_type": "markdown",
   "metadata": {},
   "source": [
    "### Data Wrangling:"
   ]
  },
  {
   "cell_type": "code",
   "execution_count": 2,
   "metadata": {
    "collapsed": true
   },
   "outputs": [],
   "source": [
    "import pandas as pd\n",
    "import numpy as np"
   ]
  },
  {
   "cell_type": "code",
   "execution_count": 143,
   "metadata": {},
   "outputs": [],
   "source": [
    "#importing Metro_Zhvi_AllHomes file \n",
    "Metro_Zhvi_AllHomes = pd.read_csv('Metro_Zhvi_AllHomes.csv')"
   ]
  },
  {
   "cell_type": "code",
   "execution_count": 144,
   "metadata": {
    "collapsed": true
   },
   "outputs": [],
   "source": [
    "#Dropping unwanted columns from Obama dataframe\n",
    "Metro_Zhvi_AllHomes.drop(['SizeRank' , 'RegionID'],axis=1,inplace=True)"
   ]
  },
  {
   "cell_type": "markdown",
   "metadata": {},
   "source": [
    "### Data Wrangling for Affordability chart:"
   ]
  },
  {
   "cell_type": "code",
   "execution_count": 108,
   "metadata": {},
   "outputs": [
    {
     "data": {
      "text/plain": [
       "25376"
      ]
     },
     "execution_count": 108,
     "metadata": {},
     "output_type": "execute_result"
    }
   ],
   "source": [
    "#calculated annual expenses from MIT data http://livingwage.mit.edu/counties/48015\n",
    "Annual_Expenses_for_one_adult_NY = 3464 +0 + 2392 + 13597 + 3568 + 2355  \n",
    "Annual_Expenses_for_one_adult_NY"
   ]
  },
  {
   "cell_type": "code",
   "execution_count": 109,
   "metadata": {},
   "outputs": [
    {
     "data": {
      "text/plain": [
       "28842"
      ]
     },
     "execution_count": 109,
     "metadata": {},
     "output_type": "execute_result"
    }
   ],
   "source": [
    "#calculated annual expenses from MIT data http://livingwage.mit.edu/counties/48015\n",
    "Annual_Expenses_for_one_adult_SFO = 3560 + 0 + 1998 + 16717 + 3768 + 2799 \n",
    "Annual_Expenses_for_one_adult_SFO"
   ]
  },
  {
   "cell_type": "code",
   "execution_count": 110,
   "metadata": {},
   "outputs": [
    {
     "data": {
      "text/plain": [
       "19068"
      ]
     },
     "execution_count": 110,
     "metadata": {},
     "output_type": "execute_result"
    }
   ],
   "source": [
    "#calculated annual expenses from MIT data http://livingwage.mit.edu/counties/48015\n",
    "Annual_Expenses_for_one_adult_Austin = 2983 + 0 + 2158 + 7068 + 4401 + 2458 \n",
    "Annual_Expenses_for_one_adult_Austin"
   ]
  },
  {
   "cell_type": "code",
   "execution_count": 124,
   "metadata": {
    "collapsed": true
   },
   "outputs": [],
   "source": [
    "#importing Austin Salaries\n",
    "Austin_salaries = pd.read_excel(\"Austin_Salaries.xlsx\")"
   ]
  },
  {
   "cell_type": "code",
   "execution_count": 125,
   "metadata": {
    "collapsed": true
   },
   "outputs": [],
   "source": [
    "#importing SFO Salaries\n",
    "SFO_Salaries = pd.read_excel(\"SFO_Salaries.xlsx\")"
   ]
  },
  {
   "cell_type": "code",
   "execution_count": 126,
   "metadata": {
    "collapsed": true
   },
   "outputs": [],
   "source": [
    "##importing New York Salaries\n",
    "Salary_NewYork = pd.read_excel(\"Salary_NewYork.xlsx\")"
   ]
  },
  {
   "cell_type": "code",
   "execution_count": 130,
   "metadata": {},
   "outputs": [],
   "source": [
    "#Adding a column CITY\n",
    "Austin_salaries['City']= 'Austin'"
   ]
  },
  {
   "cell_type": "code",
   "execution_count": 131,
   "metadata": {
    "collapsed": true
   },
   "outputs": [],
   "source": [
    "#Adding a column CITY\n",
    "SFO_Salaries['City'] = 'San Francisco'"
   ]
  },
  {
   "cell_type": "code",
   "execution_count": 132,
   "metadata": {
    "collapsed": true
   },
   "outputs": [],
   "source": [
    "#Adding a column CITY\n",
    "Salary_NewYork['City'] = 'New York'"
   ]
  },
  {
   "cell_type": "code",
   "execution_count": 120,
   "metadata": {
    "collapsed": true
   },
   "outputs": [],
   "source": [
    "#appending all three files with occuapational aread along with salary data\n",
    "salary_by_cities = Salary_NewYork.append([SFO_Salaries, Austin_salaries])"
   ]
  },
  {
   "cell_type": "code",
   "execution_count": 137,
   "metadata": {},
   "outputs": [],
   "source": [
    "#covering dataframe salary_by_cities to a csv file\n",
    "salary_by_cities.to_csv('salary_by_cities.csv')"
   ]
  },
  {
   "cell_type": "code",
   "execution_count": 146,
   "metadata": {},
   "outputs": [],
   "source": [
    "#merging three city files\n",
    "salaries_combined = pd.merge(pd.merge(Austin_salaries,SFO_Salaries,on='Occupational Area'),Salary_NewYork,on='Occupational Area')"
   ]
  },
  {
   "cell_type": "code",
   "execution_count": 21,
   "metadata": {},
   "outputs": [],
   "source": [
    "salaries_combined['Salary_to_expense_Ratio_Austin'] = salaries_combined.Typical_Annual_Salary_Austin/Annual_Expenses_for_one_adult_Austin"
   ]
  },
  {
   "cell_type": "code",
   "execution_count": 22,
   "metadata": {
    "collapsed": true
   },
   "outputs": [],
   "source": [
    "salaries_combined['Salary_to_expense_Ratio_SFO'] = salaries_combined.Typical_Annual_Salary_SFO/Annual_Expenses_for_one_adult_SFO"
   ]
  },
  {
   "cell_type": "code",
   "execution_count": 23,
   "metadata": {
    "collapsed": true
   },
   "outputs": [],
   "source": [
    "salaries_combined['Salary_to_expense_Ratio_NY'] = salaries_combined.Typical_Annual_Salary_NY/Annual_Expenses_for_one_adult_NY"
   ]
  },
  {
   "cell_type": "code",
   "execution_count": 88,
   "metadata": {
    "collapsed": true
   },
   "outputs": [],
   "source": [
    "#coverting dataframe into csv file\n",
    "salaries_combined.to_csv('salaries_combined.csv')"
   ]
  },
  {
   "cell_type": "code",
   "execution_count": 27,
   "metadata": {
    "collapsed": true
   },
   "outputs": [],
   "source": [
    "#taking this value from trendline graph calculations\n",
    "Per_Sqft_All_Homes_NY = 248.7"
   ]
  },
  {
   "cell_type": "code",
   "execution_count": 28,
   "metadata": {
    "collapsed": true
   },
   "outputs": [],
   "source": [
    "#taking this value from trendline graph calculations\n",
    "Per_Sqft_All_Homes_SFO = 552.3"
   ]
  },
  {
   "cell_type": "code",
   "execution_count": 29,
   "metadata": {
    "collapsed": true
   },
   "outputs": [],
   "source": [
    "#taking this value from trendline graph calculations\n",
    "Per_Sqft_All_Homes_Austin = 145.1"
   ]
  },
  {
   "cell_type": "code",
   "execution_count": 30,
   "metadata": {},
   "outputs": [],
   "source": [
    "#creating calculated field for Salary_per_sqft_NY \n",
    "salaries_combined['Salary_per_sqft_NY'] = salaries_combined.Typical_Annual_Salary_NY / Per_Sqft_All_Homes_NY"
   ]
  },
  {
   "cell_type": "code",
   "execution_count": 31,
   "metadata": {},
   "outputs": [],
   "source": [
    "#creating calculated field for Salary_per_sqft_SFO \n",
    "salaries_combined['Salary_per_sqft_SFO'] = salaries_combined.Typical_Annual_Salary_SFO / Per_Sqft_All_Homes_SFO"
   ]
  },
  {
   "cell_type": "code",
   "execution_count": 32,
   "metadata": {
    "collapsed": true
   },
   "outputs": [],
   "source": [
    "#creating calculated field for Salary_per_sqft_Austin \n",
    "salaries_combined['Salary_per_sqft_Austin'] = salaries_combined.Typical_Annual_Salary_Austin / Per_Sqft_All_Homes_Austin"
   ]
  },
  {
   "cell_type": "code",
   "execution_count": 66,
   "metadata": {
    "collapsed": true
   },
   "outputs": [],
   "source": [
    "#coverting dataframe into csv file\n",
    "salaries_combined.to_csv('salaries_combined1.csv')"
   ]
  },
  {
   "cell_type": "code",
   "execution_count": 33,
   "metadata": {},
   "outputs": [
    {
     "data": {
      "text/plain": [
       "Index([u'Occupational_Area', u'Typical_Annual_Salary_Austin',\n",
       "       u'Typical_Annual_Salary_SFO', u'Typical_Annual_Salary_NY',\n",
       "       u'Salary_to_expense_Ratio_Austin', u'Salary_to_expense_Ratio_SFO',\n",
       "       u'Salary_to_expense_Ratio_NY', u'Salary_per_sqft_NY',\n",
       "       u'Salary_per_sqft_SFO', u'Salary_per_sqft_Austin'],\n",
       "      dtype='object')"
      ]
     },
     "execution_count": 33,
     "metadata": {},
     "output_type": "execute_result"
    }
   ],
   "source": [
    "#checking columns\n",
    "salaries_combined.columns"
   ]
  },
  {
   "cell_type": "code",
   "execution_count": 148,
   "metadata": {
    "collapsed": true
   },
   "outputs": [],
   "source": [
    "#taking growth rate from http://www.careerglider.com/blog/austin-vs-sf-austin-better-spot-career/\n",
    "Growth_Rate_Austin = 0.186"
   ]
  },
  {
   "cell_type": "code",
   "execution_count": 149,
   "metadata": {
    "collapsed": true
   },
   "outputs": [],
   "source": [
    "#taking growth rate from http://www.careerglider.com/blog/austin-vs-sf-austin-better-spot-career/\n",
    "Growth_Rate_SFO = 0.338"
   ]
  },
  {
   "cell_type": "code",
   "execution_count": 150,
   "metadata": {
    "collapsed": true
   },
   "outputs": [],
   "source": [
    "#taking growth rate from http://www.careerglider.com/blog/austin-vs-sf-austin-better-spot-career/\n",
    "Growth_Rate_NY = 0.228"
   ]
  },
  {
   "cell_type": "code",
   "execution_count": 151,
   "metadata": {
    "collapsed": true
   },
   "outputs": [],
   "source": [
    "salaries_combined['Salary_job_growth_per_expense_Austin'] = salaries_combined.Salary_to_expense_Ratio_Austin / Growth_Rate_Austin"
   ]
  },
  {
   "cell_type": "code",
   "execution_count": 153,
   "metadata": {
    "collapsed": true
   },
   "outputs": [],
   "source": [
    "salaries_combined['Salary_job_growth_per_expense_SFO'] = salaries_combined.Salary_to_expense_Ratio_SFO / Growth_Rate_SFO"
   ]
  },
  {
   "cell_type": "code",
   "execution_count": 152,
   "metadata": {
    "collapsed": true
   },
   "outputs": [],
   "source": [
    "salaries_combined['Salary_job_growth_per_expense_NY'] = salaries_combined.Salary_to_expense_Ratio_SFO / Growth_Rate_NY"
   ]
  },
  {
   "cell_type": "code",
   "execution_count": 154,
   "metadata": {
    "collapsed": true
   },
   "outputs": [],
   "source": [
    "#coverting dataframe into csv file\n",
    "salaries_combined.to_csv('salaries_combined2.csv')"
   ]
  },
  {
   "cell_type": "code",
   "execution_count": 39,
   "metadata": {
    "collapsed": true
   },
   "outputs": [],
   "source": [
    "salaries_combined2 = salaries_combined.copy()"
   ]
  },
  {
   "cell_type": "code",
   "execution_count": 42,
   "metadata": {
    "collapsed": true
   },
   "outputs": [],
   "source": [
    "#Tried to normalize data for improving final version (unsuccessful attempt in the given time)\n",
    "salaries_combined2['Salary_Austin_normal'] = salaries_combined2.Typical_Annual_Salary_Austin /salaries_combined2.Typical_Annual_Salary_Austin"
   ]
  },
  {
   "cell_type": "code",
   "execution_count": 43,
   "metadata": {
    "collapsed": true
   },
   "outputs": [],
   "source": [
    "#Tried to normalize data for improving final version (unsuccessful attempt in the given time)\n",
    "salaries_combined2['Salary_SFO_normal'] = salaries_combined2.Typical_Annual_Salary_SFO /salaries_combined2.Typical_Annual_Salary_Austin"
   ]
  },
  {
   "cell_type": "code",
   "execution_count": 44,
   "metadata": {
    "collapsed": true
   },
   "outputs": [],
   "source": [
    "#Tried to normalize data for improving final version (unsuccessful attempt in the given time)\n",
    "salaries_combined2['Salary_NY_normal'] = salaries_combined2.Typical_Annual_Salary_NY /salaries_combined2.Typical_Annual_Salary_Austin"
   ]
  },
  {
   "cell_type": "code",
   "execution_count": 155,
   "metadata": {
    "collapsed": true
   },
   "outputs": [],
   "source": [
    "#coverting dataframe into csv file\n",
    "salaries_combined2.to_csv('salaries_combined2.csv')"
   ]
  },
  {
   "cell_type": "markdown",
   "metadata": {},
   "source": [
    "### Data Wrangling for Home Price to Rent Ratio:"
   ]
  },
  {
   "cell_type": "code",
   "execution_count": 51,
   "metadata": {
    "collapsed": true
   },
   "outputs": [],
   "source": [
    "#importing Metro_Price_To_Rent_2017 to dataframe\n",
    "Metro_Price_To_Rent_2017 = pd.read_csv('Metro_Price_To_Rent_2017.csv')"
   ]
  },
  {
   "cell_type": "code",
   "execution_count": null,
   "metadata": {
    "collapsed": true
   },
   "outputs": [],
   "source": [
    "#selecting 3 metro regions for our analysis\n",
    "Metro_Price_To_Rent_2017 = Metro_Price_To_Rent_2017.loc[Metro_Price_To_Rent_2017['RegionName'].isin(['New York, NY', 'San Francisco, CA', 'Austin, TX'])]"
   ]
  },
  {
   "cell_type": "code",
   "execution_count": 52,
   "metadata": {
    "collapsed": true
   },
   "outputs": [],
   "source": [
    "#taking average of 2017 data\n",
    "Metro_Price_To_Rent_2017['2017_Average'] = Metro_Price_To_Rent_2017.mean(axis=1)"
   ]
  },
  {
   "cell_type": "code",
   "execution_count": 54,
   "metadata": {},
   "outputs": [
    {
     "data": {
      "text/plain": [
       "10.680598849384827"
      ]
     },
     "execution_count": 54,
     "metadata": {},
     "output_type": "execute_result"
    }
   ],
   "source": [
    "#calculated national_average for Price to Rent ratio\n",
    "national_average = Metro_Price_To_Rent_2017['2017_Average'].mean()\n",
    "national_average"
   ]
  },
  {
   "cell_type": "code",
   "execution_count": 58,
   "metadata": {
    "collapsed": true
   },
   "outputs": [],
   "source": [
    "Metro_Price_To_Rent_2017 = Metro_Price_To_Rent_2017[['RegionName', '2017_Average']]"
   ]
  },
  {
   "cell_type": "code",
   "execution_count": 65,
   "metadata": {},
   "outputs": [
    {
     "data": {
      "text/html": [
       "<div>\n",
       "<style>\n",
       "    .dataframe thead tr:only-child th {\n",
       "        text-align: right;\n",
       "    }\n",
       "\n",
       "    .dataframe thead th {\n",
       "        text-align: left;\n",
       "    }\n",
       "\n",
       "    .dataframe tbody tr th {\n",
       "        vertical-align: top;\n",
       "    }\n",
       "</style>\n",
       "<table border=\"1\" class=\"dataframe\">\n",
       "  <thead>\n",
       "    <tr style=\"text-align: right;\">\n",
       "      <th></th>\n",
       "      <th>RegionName</th>\n",
       "      <th>2017_Average</th>\n",
       "      <th>National_avg_normal</th>\n",
       "    </tr>\n",
       "  </thead>\n",
       "  <tbody>\n",
       "    <tr>\n",
       "      <th>1</th>\n",
       "      <td>New York, NY</td>\n",
       "      <td>13.384</td>\n",
       "      <td>2.703401</td>\n",
       "    </tr>\n",
       "    <tr>\n",
       "      <th>11</th>\n",
       "      <td>San Francisco, CA</td>\n",
       "      <td>20.735</td>\n",
       "      <td>10.054401</td>\n",
       "    </tr>\n",
       "    <tr>\n",
       "      <th>31</th>\n",
       "      <td>Austin, TX</td>\n",
       "      <td>12.926</td>\n",
       "      <td>2.245401</td>\n",
       "    </tr>\n",
       "  </tbody>\n",
       "</table>\n",
       "</div>"
      ],
      "text/plain": [
       "           RegionName  2017_Average  National_avg_normal\n",
       "1        New York, NY        13.384             2.703401\n",
       "11  San Francisco, CA        20.735            10.054401\n",
       "31         Austin, TX        12.926             2.245401"
      ]
     },
     "execution_count": 65,
     "metadata": {},
     "output_type": "execute_result"
    }
   ],
   "source": [
    "#final data for price to rent ratio\n",
    "Metro_Price_To_Rent_2017"
   ]
  },
  {
   "cell_type": "code",
   "execution_count": 64,
   "metadata": {},
   "outputs": [
    {
     "name": "stderr",
     "output_type": "stream",
     "text": [
      "/anaconda/lib/python2.7/site-packages/ipykernel_launcher.py:1: SettingWithCopyWarning: \n",
      "A value is trying to be set on a copy of a slice from a DataFrame.\n",
      "Try using .loc[row_indexer,col_indexer] = value instead\n",
      "\n",
      "See the caveats in the documentation: http://pandas.pydata.org/pandas-docs/stable/indexing.html#indexing-view-versus-copy\n",
      "  \"\"\"Entry point for launching an IPython kernel.\n"
     ]
    }
   ],
   "source": [
    "#normalizing average price to rent ratio column\n",
    "Metro_Price_To_Rent_2017['National_avg_normal'] =  Metro_Price_To_Rent_2017['2017_Average'] - national_average"
   ]
  },
  {
   "cell_type": "code",
   "execution_count": 69,
   "metadata": {},
   "outputs": [],
   "source": [
    "#converting dataframe into a csv file\n",
    "Metro_Price_To_Rent_2017.to_csv('Metro_Price_To_Rent_2017_normal.csv')"
   ]
  }
 ],
 "metadata": {
  "kernelspec": {
   "display_name": "Python 2",
   "language": "python",
   "name": "python2"
  },
  "language_info": {
   "codemirror_mode": {
    "name": "ipython",
    "version": 2
   },
   "file_extension": ".py",
   "mimetype": "text/x-python",
   "name": "python",
   "nbconvert_exporter": "python",
   "pygments_lexer": "ipython2",
   "version": "2.7.13"
  }
 },
 "nbformat": 4,
 "nbformat_minor": 2
}
